{
 "cells": [
  {
   "cell_type": "code",
   "execution_count": 1,
   "id": "88a610dd-48e5-4183-9665-51dbd9ff8cbb",
   "metadata": {
    "tags": []
   },
   "outputs": [
    {
     "name": "stdout",
     "output_type": "stream",
     "text": [
      "Defaulting to user installation because normal site-packages is not writeable\n",
      "Requirement already satisfied: vaderSentiment in c:\\users\\ecepniler\\appdata\\roaming\\python\\python311\\site-packages (3.3.2)\n",
      "Requirement already satisfied: pandas in c:\\users\\ecepniler\\appdata\\roaming\\python\\python311\\site-packages (2.2.2)\n",
      "Requirement already satisfied: openpyxl in c:\\users\\ecepniler\\appdata\\roaming\\python\\python311\\site-packages (3.1.5)\n",
      "Requirement already satisfied: requests in c:\\programdata\\anaconda3\\lib\\site-packages (from vaderSentiment) (2.31.0)\n",
      "Requirement already satisfied: numpy>=1.23.2 in c:\\users\\ecepniler\\appdata\\roaming\\python\\python311\\site-packages (from pandas) (1.23.5)\n",
      "Requirement already satisfied: python-dateutil>=2.8.2 in c:\\programdata\\anaconda3\\lib\\site-packages (from pandas) (2.8.2)\n",
      "Requirement already satisfied: pytz>=2020.1 in c:\\users\\ecepniler\\appdata\\roaming\\python\\python311\\site-packages (from pandas) (2023.3)\n",
      "Requirement already satisfied: tzdata>=2022.7 in c:\\users\\ecepniler\\appdata\\roaming\\python\\python311\\site-packages (from pandas) (2024.1)\n",
      "Requirement already satisfied: et-xmlfile in c:\\programdata\\anaconda3\\lib\\site-packages (from openpyxl) (1.1.0)\n",
      "Requirement already satisfied: six>=1.5 in c:\\programdata\\anaconda3\\lib\\site-packages (from python-dateutil>=2.8.2->pandas) (1.16.0)\n",
      "Requirement already satisfied: charset-normalizer<4,>=2 in c:\\programdata\\anaconda3\\lib\\site-packages (from requests->vaderSentiment) (2.0.4)\n",
      "Requirement already satisfied: idna<4,>=2.5 in c:\\programdata\\anaconda3\\lib\\site-packages (from requests->vaderSentiment) (3.4)\n",
      "Requirement already satisfied: urllib3<3,>=1.21.1 in c:\\programdata\\anaconda3\\lib\\site-packages (from requests->vaderSentiment) (1.26.16)\n",
      "Requirement already satisfied: certifi>=2017.4.17 in c:\\programdata\\anaconda3\\lib\\site-packages (from requests->vaderSentiment) (2023.7.22)\n",
      "Note: you may need to restart the kernel to use updated packages.\n"
     ]
    },
    {
     "name": "stderr",
     "output_type": "stream",
     "text": [
      "\n",
      "[notice] A new release of pip is available: 24.2 -> 25.1.1\n",
      "[notice] To update, run: python.exe -m pip install --upgrade pip\n"
     ]
    }
   ],
   "source": [
    "pip install vaderSentiment pandas openpyxl"
   ]
  },
  {
   "cell_type": "code",
   "execution_count": 3,
   "id": "3b972da6-7d64-49c0-aba1-1b6756d5c4c0",
   "metadata": {
    "tags": []
   },
   "outputs": [],
   "source": [
    "# Step 1: Load and classify sentiment\n",
    "import pandas as pd\n",
    "from vaderSentiment.vaderSentiment import SentimentIntensityAnalyzer\n",
    "\n",
    "# Load the dataset\n",
    "df = pd.read_excel(\"sentiment_analysis_sample.xlsx\")\n",
    "df = df.dropna(subset=[\"Comment\"])\n",
    "\n",
    "# Initialize VADER\n",
    "analyzer = SentimentIntensityAnalyzer()\n",
    "\n",
    "# Strict classifier with negative override for broken/damaged scenarios\n",
    "negative_override_cues = ['broken', 'banged', 'damaged', 'not working', 'issue', 'troubleshoot', 'screen']\n",
    "\n",
    "def classify_sentiment_strict(comment):\n",
    "    score = analyzer.polarity_scores(comment)\n",
    "    compound = score['compound']\n",
    "    text = comment.lower()\n",
    "\n",
    "    # Force negative if key issue words present\n",
    "    if any(kw in text for kw in negative_override_cues):\n",
    "        return 'Negative'\n",
    "\n",
    "    if compound >= 0.5:\n",
    "        return \"Positive\"\n",
    "    elif compound <= -0.3:\n",
    "        return \"Negative\"\n",
    "    else:\n",
    "        return \"Neutral\"\n",
    "\n",
    "# Apply sentiment labels\n",
    "df['Compound'] = df['Comment'].apply(lambda x: analyzer.polarity_scores(x)['compound'])\n",
    "df['Sentiment'] = df['Comment'].apply(classify_sentiment_strict)\n",
    "\n"
   ]
  },
  {
   "cell_type": "code",
   "execution_count": 6,
   "id": "64577dd0-eac4-4998-a492-8da508e4c4d6",
   "metadata": {
    "tags": []
   },
   "outputs": [
    {
     "data": {
      "text/html": [
       "<div>\n",
       "<style scoped>\n",
       "    .dataframe tbody tr th:only-of-type {\n",
       "        vertical-align: middle;\n",
       "    }\n",
       "\n",
       "    .dataframe tbody tr th {\n",
       "        vertical-align: top;\n",
       "    }\n",
       "\n",
       "    .dataframe thead th {\n",
       "        text-align: right;\n",
       "    }\n",
       "</style>\n",
       "<table border=\"1\" class=\"dataframe\">\n",
       "  <thead>\n",
       "    <tr style=\"text-align: right;\">\n",
       "      <th>Sentiment</th>\n",
       "      <th>Positive</th>\n",
       "      <th>Neutral</th>\n",
       "      <th>Negative</th>\n",
       "      <th>Total Comments</th>\n",
       "    </tr>\n",
       "    <tr>\n",
       "      <th>Station Name</th>\n",
       "      <th></th>\n",
       "      <th></th>\n",
       "      <th></th>\n",
       "      <th></th>\n",
       "    </tr>\n",
       "  </thead>\n",
       "  <tbody>\n",
       "    <tr>\n",
       "      <th>NYC FLEET / DCASCSTHSE_2_L3</th>\n",
       "      <td>0</td>\n",
       "      <td>0</td>\n",
       "      <td>1</td>\n",
       "      <td>1</td>\n",
       "    </tr>\n",
       "    <tr>\n",
       "      <th>NYC FLEET / DCASCSTHSE_3_L3</th>\n",
       "      <td>0</td>\n",
       "      <td>2</td>\n",
       "      <td>2</td>\n",
       "      <td>4</td>\n",
       "    </tr>\n",
       "  </tbody>\n",
       "</table>\n",
       "</div>"
      ],
      "text/plain": [
       "Sentiment                    Positive  Neutral  Negative  Total Comments\n",
       "Station Name                                                            \n",
       "NYC FLEET / DCASCSTHSE_2_L3         0        0         1               1\n",
       "NYC FLEET / DCASCSTHSE_3_L3         0        2         2               4"
      ]
     },
     "execution_count": 6,
     "metadata": {},
     "output_type": "execute_result"
    }
   ],
   "source": [
    "# Group and ensure all sentiment columns exist\n",
    "station_sentiment = df.groupby(['Station Name', 'Sentiment'])['Comment'].count().unstack(fill_value=0)\n",
    "\n",
    "# Force missing columns to exist\n",
    "station_sentiment = station_sentiment.reindex(columns=['Positive', 'Neutral', 'Negative'], fill_value=0)\n",
    "\n",
    "# Add total column\n",
    "station_sentiment['Total Comments'] = station_sentiment.sum(axis=1)\n",
    "\n",
    "# Rearrange columns\n",
    "station_sentiment = station_sentiment[['Positive', 'Neutral', 'Negative', 'Total Comments']]\n",
    "\n",
    "# Save to Excel\n",
    "station_sentiment.to_excel(\"station_sentiment_summary.xlsx\")\n",
    "\n",
    "station_sentiment"
   ]
  },
  {
   "cell_type": "code",
   "execution_count": 7,
   "id": "c2ec1382-f187-4da0-93b0-96a8d35bd6b8",
   "metadata": {
    "tags": []
   },
   "outputs": [],
   "source": [
    "# Step 2: Define reason categories\n",
    "reason_keywords = {\n",
    "    'wait': ['wait', 'waiting', 'line', 'queue'],\n",
    "    'access': ['access', 'security', 'locked', 'restricted', 'turn away'],\n",
    "    'broken': ['broken', 'damaged', 'malfunction', 'screen', 'banged', 'issue'],\n",
    "    'availability': ['unavailable', 'not available', 'out of service'],\n",
    "    'congestion': ['tlc', 'full', 'taken', 'occupied', 'too many', 'overload'],\n",
    "    'charging': ['charging', 'slow', 'not charging', 'error'],\n",
    "    'easy_use': ['easy', 'simple', 'intuitive'],\n",
    "    'positive_experience': ['love', 'great', 'awesome', 'excellent', 'perfect']\n",
    "}\n",
    "\n",
    "def map_reason_sentiment_aware(row):\n",
    "    comment = row['Comment'].lower()\n",
    "    sentiment = row['Sentiment']\n",
    "\n",
    "    if sentiment == 'Negative':\n",
    "        for reason, keywords in reason_keywords.items():\n",
    "            if reason in ['wait', 'access', 'broken', 'availability', 'congestion', 'charging']:\n",
    "                if any(kw in comment for kw in keywords):\n",
    "                    return reason\n",
    "    elif sentiment == 'Positive':\n",
    "        for reason, keywords in reason_keywords.items():\n",
    "            if reason in ['easy_use', 'positive_experience']:\n",
    "                if any(kw in comment for kw in keywords):\n",
    "                    return reason\n",
    "    return \"unspecified\"\n",
    "\n",
    "df['Reason'] = df.apply(map_reason_sentiment_aware, axis=1)"
   ]
  },
  {
   "cell_type": "code",
   "execution_count": 8,
   "id": "9c59937b-671d-41cc-8e7c-7fd7cc951b10",
   "metadata": {
    "tags": []
   },
   "outputs": [],
   "source": [
    "# Step 3: Aggregate station summary with reasons\n",
    "def top_reason_for_station(station_df, sentiment_type):\n",
    "    reasons = station_df[station_df['Sentiment'] == sentiment_type]['Reason']\n",
    "    return reasons.value_counts().idxmax() if not reasons.empty else None\n",
    "\n",
    "summary_with_reasons = []\n",
    "for station in df['Station Name'].unique():\n",
    "    station_df = df[df['Station Name'] == station]\n",
    "    summary_with_reasons.append({\n",
    "        'Station Name': station,\n",
    "        'Positive': (station_df['Sentiment'] == 'Positive').sum(),\n",
    "        'Neutral': (station_df['Sentiment'] == 'Neutral').sum(),\n",
    "        'Negative': (station_df['Sentiment'] == 'Negative').sum(),\n",
    "        'Total Comments': len(station_df),\n",
    "        'Top Positive Reason': top_reason_for_station(station_df, 'Positive'),\n",
    "        'Top Negative Reason': top_reason_for_station(station_df, 'Negative')\n",
    "    })\n",
    "\n",
    "station_reasons_df = pd.DataFrame(summary_with_reasons)\n",
    "\n",
    "# Save results\n",
    "df.to_excel(\"processed_comments_with_reasons.xlsx\", index=False)\n",
    "station_reasons_df.to_excel(\"station_sentiment_reasons.xlsx\", index=False)"
   ]
  },
  {
   "cell_type": "code",
   "execution_count": 9,
   "id": "26535511-b1ab-4d52-8336-5676656c193e",
   "metadata": {
    "tags": []
   },
   "outputs": [
    {
     "data": {
      "text/html": [
       "<div>\n",
       "<style scoped>\n",
       "    .dataframe tbody tr th:only-of-type {\n",
       "        vertical-align: middle;\n",
       "    }\n",
       "\n",
       "    .dataframe tbody tr th {\n",
       "        vertical-align: top;\n",
       "    }\n",
       "\n",
       "    .dataframe thead th {\n",
       "        text-align: right;\n",
       "    }\n",
       "</style>\n",
       "<table border=\"1\" class=\"dataframe\">\n",
       "  <thead>\n",
       "    <tr style=\"text-align: right;\">\n",
       "      <th></th>\n",
       "      <th>Station Name</th>\n",
       "      <th>Positive</th>\n",
       "      <th>Neutral</th>\n",
       "      <th>Negative</th>\n",
       "      <th>Total Comments</th>\n",
       "      <th>Top Positive Reason</th>\n",
       "      <th>Top Negative Reason</th>\n",
       "    </tr>\n",
       "  </thead>\n",
       "  <tbody>\n",
       "    <tr>\n",
       "      <th>0</th>\n",
       "      <td>NYC FLEET / DCASCSTHSE_2_L3</td>\n",
       "      <td>0</td>\n",
       "      <td>0</td>\n",
       "      <td>1</td>\n",
       "      <td>1</td>\n",
       "      <td>None</td>\n",
       "      <td>wait</td>\n",
       "    </tr>\n",
       "    <tr>\n",
       "      <th>1</th>\n",
       "      <td>NYC FLEET / DCASCSTHSE_3_L3</td>\n",
       "      <td>0</td>\n",
       "      <td>2</td>\n",
       "      <td>2</td>\n",
       "      <td>4</td>\n",
       "      <td>None</td>\n",
       "      <td>broken</td>\n",
       "    </tr>\n",
       "  </tbody>\n",
       "</table>\n",
       "</div>"
      ],
      "text/plain": [
       "                  Station Name  Positive  Neutral  Negative  Total Comments  \\\n",
       "0  NYC FLEET / DCASCSTHSE_2_L3         0        0         1               1   \n",
       "1  NYC FLEET / DCASCSTHSE_3_L3         0        2         2               4   \n",
       "\n",
       "  Top Positive Reason Top Negative Reason  \n",
       "0                None                wait  \n",
       "1                None              broken  "
      ]
     },
     "execution_count": 9,
     "metadata": {},
     "output_type": "execute_result"
    }
   ],
   "source": [
    "station_reasons_df"
   ]
  },
  {
   "cell_type": "code",
   "execution_count": 10,
   "id": "79f60b42-e609-416b-a539-bf63f27d7b2a",
   "metadata": {
    "tags": []
   },
   "outputs": [
    {
     "data": {
      "text/html": [
       "<div>\n",
       "<style scoped>\n",
       "    .dataframe tbody tr th:only-of-type {\n",
       "        vertical-align: middle;\n",
       "    }\n",
       "\n",
       "    .dataframe tbody tr th {\n",
       "        vertical-align: top;\n",
       "    }\n",
       "\n",
       "    .dataframe thead th {\n",
       "        text-align: right;\n",
       "    }\n",
       "</style>\n",
       "<table border=\"1\" class=\"dataframe\">\n",
       "  <thead>\n",
       "    <tr style=\"text-align: right;\">\n",
       "      <th></th>\n",
       "      <th>Comment</th>\n",
       "      <th>Compound</th>\n",
       "      <th>Sentiment</th>\n",
       "      <th>Reason</th>\n",
       "    </tr>\n",
       "  </thead>\n",
       "  <tbody>\n",
       "    <tr>\n",
       "      <th>0</th>\n",
       "      <td>Waited 3 hrs a City car came out no where and ...</td>\n",
       "      <td>-0.8285</td>\n",
       "      <td>Negative</td>\n",
       "      <td>wait</td>\n",
       "    </tr>\n",
       "    <tr>\n",
       "      <th>4</th>\n",
       "      <td>Be aware that security restricts access during...</td>\n",
       "      <td>0.0258</td>\n",
       "      <td>Neutral</td>\n",
       "      <td>unspecified</td>\n",
       "    </tr>\n",
       "    <tr>\n",
       "      <th>1</th>\n",
       "      <td>No longer worth it, like every single public c...</td>\n",
       "      <td>0.1820</td>\n",
       "      <td>Neutral</td>\n",
       "      <td>unspecified</td>\n",
       "    </tr>\n",
       "    <tr>\n",
       "      <th>3</th>\n",
       "      <td>Love these chargers! SIMPLE to use, always wor...</td>\n",
       "      <td>0.6900</td>\n",
       "      <td>Negative</td>\n",
       "      <td>access</td>\n",
       "    </tr>\n",
       "    <tr>\n",
       "      <th>2</th>\n",
       "      <td>The screen for this charger is pretty banged u...</td>\n",
       "      <td>0.7184</td>\n",
       "      <td>Negative</td>\n",
       "      <td>broken</td>\n",
       "    </tr>\n",
       "  </tbody>\n",
       "</table>\n",
       "</div>"
      ],
      "text/plain": [
       "                                             Comment  Compound Sentiment  \\\n",
       "0  Waited 3 hrs a City car came out no where and ...   -0.8285  Negative   \n",
       "4  Be aware that security restricts access during...    0.0258   Neutral   \n",
       "1  No longer worth it, like every single public c...    0.1820   Neutral   \n",
       "3  Love these chargers! SIMPLE to use, always wor...    0.6900  Negative   \n",
       "2  The screen for this charger is pretty banged u...    0.7184  Negative   \n",
       "\n",
       "        Reason  \n",
       "0         wait  \n",
       "4  unspecified  \n",
       "1  unspecified  \n",
       "3       access  \n",
       "2       broken  "
      ]
     },
     "execution_count": 10,
     "metadata": {},
     "output_type": "execute_result"
    }
   ],
   "source": [
    "# Select edge and mismatched cases for manual review\n",
    "sample_review = df.sort_values(by='Compound')\n",
    "sample_review = sample_review[['Comment', 'Compound', 'Sentiment', 'Reason']].head(10)\n",
    "sample_review.to_excel(\"manual_review_samples.xlsx\", index=False)\n",
    "sample_review"
   ]
  },
  {
   "cell_type": "code",
   "execution_count": null,
   "id": "3267e156-061b-4fe4-8a04-26c795d77d78",
   "metadata": {},
   "outputs": [],
   "source": []
  }
 ],
 "metadata": {
  "kernelspec": {
   "display_name": "Python 3 (ipykernel)",
   "language": "python",
   "name": "python3"
  },
  "language_info": {
   "codemirror_mode": {
    "name": "ipython",
    "version": 3
   },
   "file_extension": ".py",
   "mimetype": "text/x-python",
   "name": "python",
   "nbconvert_exporter": "python",
   "pygments_lexer": "ipython3",
   "version": "3.11.4"
  }
 },
 "nbformat": 4,
 "nbformat_minor": 5
}
